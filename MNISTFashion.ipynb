{
 "cells": [
  {
   "cell_type": "markdown",
   "id": "f1a38082-cf90-47a6-8825-bdadcdaad990",
   "metadata": {},
   "source": [
    "**IMPORTS AND LOADING THE DATA**"
   ]
  },
  {
   "cell_type": "code",
   "execution_count": 1,
   "id": "1e88ddf6-06fc-4b98-b4c0-9c8ee5ec2d10",
   "metadata": {},
   "outputs": [
    {
     "name": "stderr",
     "output_type": "stream",
     "text": [
      "2024-03-08 19:57:25.718071: E external/local_xla/xla/stream_executor/cuda/cuda_dnn.cc:9261] Unable to register cuDNN factory: Attempting to register factory for plugin cuDNN when one has already been registered\n",
      "2024-03-08 19:57:25.718236: E external/local_xla/xla/stream_executor/cuda/cuda_fft.cc:607] Unable to register cuFFT factory: Attempting to register factory for plugin cuFFT when one has already been registered\n",
      "2024-03-08 19:57:25.764665: E external/local_xla/xla/stream_executor/cuda/cuda_blas.cc:1515] Unable to register cuBLAS factory: Attempting to register factory for plugin cuBLAS when one has already been registered\n",
      "2024-03-08 19:57:25.873511: I tensorflow/core/platform/cpu_feature_guard.cc:182] This TensorFlow binary is optimized to use available CPU instructions in performance-critical operations.\n",
      "To enable the following instructions: AVX2 FMA, in other operations, rebuild TensorFlow with the appropriate compiler flags.\n",
      "2024-03-08 19:57:27.567725: W tensorflow/compiler/tf2tensorrt/utils/py_utils.cc:38] TF-TRT Warning: Could not find TensorRT\n"
     ]
    }
   ],
   "source": [
    "import tensorflow as tf\n",
    "from tensorflow import keras\n",
    "import matplotlib.pyplot as plt\n",
    "import pandas as pd\n",
    "import numpy as np"
   ]
  },
  {
   "cell_type": "code",
   "execution_count": 2,
   "id": "75b30138-9f18-46f5-ab79-72a335fd063b",
   "metadata": {},
   "outputs": [],
   "source": [
    "fashion_mnist = keras.datasets.fashion_mnist"
   ]
  },
  {
   "cell_type": "code",
   "execution_count": 3,
   "id": "b5e7bd31-1c8c-49c4-aa5b-a0e18c66c96b",
   "metadata": {},
   "outputs": [],
   "source": [
    "class_names = ['T-shirt/top', 'Trouser', 'Pullover', 'Dress', 'Coat',\n",
    "               'Sandal', 'Shirt', 'Sneaker', 'Bag', 'Ankle boot']"
   ]
  },
  {
   "cell_type": "code",
   "execution_count": 4,
   "id": "ab96674a-3de5-4a17-bf8d-0a96d5b96a4f",
   "metadata": {},
   "outputs": [],
   "source": [
    "(X_train,y_train), (X_test,y_test) = fashion_mnist.load_data()"
   ]
  },
  {
   "cell_type": "code",
   "execution_count": 5,
   "id": "5a559c97-137a-453a-ab3c-2a3f88d328e3",
   "metadata": {},
   "outputs": [
    {
     "data": {
      "text/plain": [
       "(60000, 28, 28)"
      ]
     },
     "execution_count": 5,
     "metadata": {},
     "output_type": "execute_result"
    }
   ],
   "source": [
    "X_train.shape"
   ]
  },
  {
   "cell_type": "code",
   "execution_count": 6,
   "id": "f975e24d-cc86-4351-b779-f94b3afca257",
   "metadata": {},
   "outputs": [
    {
     "data": {
      "text/plain": [
       "array([[[0, 0, 0, ..., 0, 0, 0],\n",
       "        [0, 0, 0, ..., 0, 0, 0],\n",
       "        [0, 0, 0, ..., 0, 0, 0],\n",
       "        ...,\n",
       "        [0, 0, 0, ..., 0, 0, 0],\n",
       "        [0, 0, 0, ..., 0, 0, 0],\n",
       "        [0, 0, 0, ..., 0, 0, 0]],\n",
       "\n",
       "       [[0, 0, 0, ..., 0, 0, 0],\n",
       "        [0, 0, 0, ..., 0, 0, 0],\n",
       "        [0, 0, 0, ..., 0, 0, 0],\n",
       "        ...,\n",
       "        [0, 0, 0, ..., 0, 0, 0],\n",
       "        [0, 0, 0, ..., 0, 0, 0],\n",
       "        [0, 0, 0, ..., 0, 0, 0]],\n",
       "\n",
       "       [[0, 0, 0, ..., 0, 0, 0],\n",
       "        [0, 0, 0, ..., 0, 0, 0],\n",
       "        [0, 0, 0, ..., 0, 0, 0],\n",
       "        ...,\n",
       "        [0, 0, 0, ..., 0, 0, 0],\n",
       "        [0, 0, 0, ..., 0, 0, 0],\n",
       "        [0, 0, 0, ..., 0, 0, 0]],\n",
       "\n",
       "       ...,\n",
       "\n",
       "       [[0, 0, 0, ..., 0, 0, 0],\n",
       "        [0, 0, 0, ..., 0, 0, 0],\n",
       "        [0, 0, 0, ..., 0, 0, 0],\n",
       "        ...,\n",
       "        [0, 0, 0, ..., 0, 0, 0],\n",
       "        [0, 0, 0, ..., 0, 0, 0],\n",
       "        [0, 0, 0, ..., 0, 0, 0]],\n",
       "\n",
       "       [[0, 0, 0, ..., 0, 0, 0],\n",
       "        [0, 0, 0, ..., 0, 0, 0],\n",
       "        [0, 0, 0, ..., 0, 0, 0],\n",
       "        ...,\n",
       "        [0, 0, 0, ..., 0, 0, 0],\n",
       "        [0, 0, 0, ..., 0, 0, 0],\n",
       "        [0, 0, 0, ..., 0, 0, 0]],\n",
       "\n",
       "       [[0, 0, 0, ..., 0, 0, 0],\n",
       "        [0, 0, 0, ..., 0, 0, 0],\n",
       "        [0, 0, 0, ..., 0, 0, 0],\n",
       "        ...,\n",
       "        [0, 0, 0, ..., 0, 0, 0],\n",
       "        [0, 0, 0, ..., 0, 0, 0],\n",
       "        [0, 0, 0, ..., 0, 0, 0]]], dtype=uint8)"
      ]
     },
     "execution_count": 6,
     "metadata": {},
     "output_type": "execute_result"
    }
   ],
   "source": [
    "X_train"
   ]
  },
  {
   "cell_type": "code",
   "execution_count": 7,
   "id": "8ab9a60e-5cc9-4f31-8a65-9c77cef2a6d0",
   "metadata": {},
   "outputs": [
    {
     "data": {
      "text/plain": [
       "0"
      ]
     },
     "execution_count": 7,
     "metadata": {},
     "output_type": "execute_result"
    }
   ],
   "source": [
    "X_train[20000,3,15]"
   ]
  },
  {
   "cell_type": "code",
   "execution_count": 8,
   "id": "e87464c2-d854-4478-83eb-65c65bf0a048",
   "metadata": {},
   "outputs": [
    {
     "data": {
      "text/plain": [
       "170"
      ]
     },
     "execution_count": 8,
     "metadata": {},
     "output_type": "execute_result"
    }
   ],
   "source": [
    "X_train[0,23,26]"
   ]
  },
  {
   "cell_type": "code",
   "execution_count": 9,
   "id": "5191f8c9-b0fe-4bcd-8b17-bb55385d1c42",
   "metadata": {},
   "outputs": [
    {
     "data": {
      "text/plain": [
       "array([9, 0, 0, 3, 0, 2, 7, 2, 5, 5], dtype=uint8)"
      ]
     },
     "execution_count": 9,
     "metadata": {},
     "output_type": "execute_result"
    }
   ],
   "source": [
    "y_train[0:10]"
   ]
  },
  {
   "cell_type": "code",
   "execution_count": 10,
   "id": "94a75aa8-93e7-4a7b-90eb-2c2cb7afd7a7",
   "metadata": {},
   "outputs": [
    {
     "data": {
      "text/plain": [
       "<matplotlib.colorbar.Colorbar at 0x7f9e7f552950>"
      ]
     },
     "execution_count": 10,
     "metadata": {},
     "output_type": "execute_result"
    },
    {
     "data": {
      "image/png": "[encoded data removed]",
      "text/plain": [
       "<Figure size 640x480 with 2 Axes>"
      ]
     },
     "metadata": {},
     "output_type": "display_data"
    }
   ],
   "source": [
    "plt.imshow(X_train[10])\n",
    "plt.colorbar()"
   ]
  },
  {
   "cell_type": "markdown",
   "id": "a982a7a2-310c-4806-8138-62c2eb117a3e",
   "metadata": {},
   "source": [
    "**DATA PREPROCESSING**"
   ]
  },
  {
   "cell_type": "code",
   "execution_count": 11,
   "id": "720b4b4e-fc7c-4dcd-a23f-c3e0a1cabd39",
   "metadata": {},
   "outputs": [],
   "source": [
    "X_train = X_train/255\n",
    "X_test = X_test/255"
   ]
  },
  {
   "cell_type": "markdown",
   "id": "ba27efbe-abc8-449e-a63d-c850272b8a7d",
   "metadata": {},
   "source": [
    "**BUILDING AND TRAINING THE MODEL**"
   ]
  },
  {
   "cell_type": "code",
   "execution_count": 12,
   "id": "55025087-255a-4cf4-b2ca-89d35ca648a1",
   "metadata": {},
   "outputs": [
    {
     "name": "stderr",
     "output_type": "stream",
     "text": [
      "2024-03-08 19:57:32.152989: E external/local_xla/xla/stream_executor/cuda/cuda_driver.cc:274] failed call to cuInit: CUDA_ERROR_NO_DEVICE: no CUDA-capable device is detected\n"
     ]
    }
   ],
   "source": [
    "model = keras.Sequential([\n",
    "    keras.layers.Flatten(input_shape=(28,28)),\n",
    "    keras.layers.Dense(392,activation='softmax'),\n",
    "    keras.layers.Dense(10,activation='softmax')\n",
    "])"
   ]
  },
  {
   "cell_type": "code",
   "execution_count": 13,
   "id": "7a04cf2d-94af-47c3-ba17-d5ddfd57bd9d",
   "metadata": {},
   "outputs": [],
   "source": [
    "model.compile(loss='sparse_categorical_crossentropy',\n",
    "             optimizer='adam',\n",
    "             metrics=['accuracy'])"
   ]
  },
  {
   "cell_type": "code",
   "execution_count": 14,
   "id": "c980263b-7558-4ac9-853f-a9e9ad35b3e4",
   "metadata": {},
   "outputs": [
    {
     "name": "stdout",
     "output_type": "stream",
     "text": [
      "Epoch 1/50\n",
      "1875/1875 [==============================] - 13s 6ms/step - loss: 1.3681 - accuracy: 0.6834\n",
      "Epoch 2/50\n",
      "1875/1875 [==============================] - 12s 6ms/step - loss: 0.7338 - accuracy: 0.7432\n",
      "Epoch 3/50\n",
      "1875/1875 [==============================] - 12s 6ms/step - loss: 0.6144 - accuracy: 0.7526\n",
      "Epoch 4/50\n",
      "1875/1875 [==============================] - 12s 6ms/step - loss: 0.5780 - accuracy: 0.7580\n",
      "Epoch 5/50\n",
      "1875/1875 [==============================] - 12s 6ms/step - loss: 0.5605 - accuracy: 0.7620\n",
      "Epoch 6/50\n",
      "1875/1875 [==============================] - 12s 6ms/step - loss: 0.5492 - accuracy: 0.7658\n",
      "Epoch 7/50\n",
      "1875/1875 [==============================] - 12s 6ms/step - loss: 0.5405 - accuracy: 0.7708\n",
      "Epoch 8/50\n",
      "1875/1875 [==============================] - 12s 6ms/step - loss: 0.5325 - accuracy: 0.7781\n",
      "Epoch 9/50\n",
      "1875/1875 [==============================] - 12s 6ms/step - loss: 0.5199 - accuracy: 0.7936\n",
      "Epoch 10/50\n",
      "1875/1875 [==============================] - 12s 6ms/step - loss: 0.5087 - accuracy: 0.8067\n",
      "Epoch 11/50\n",
      "1875/1875 [==============================] - 12s 6ms/step - loss: 0.4973 - accuracy: 0.8270\n",
      "Epoch 12/50\n",
      "1875/1875 [==============================] - 12s 6ms/step - loss: 0.4850 - accuracy: 0.8324\n",
      "Epoch 13/50\n",
      "1875/1875 [==============================] - 12s 6ms/step - loss: 0.4729 - accuracy: 0.8350\n",
      "Epoch 14/50\n",
      "1875/1875 [==============================] - 12s 6ms/step - loss: 0.4618 - accuracy: 0.8380\n",
      "Epoch 15/50\n",
      "1875/1875 [==============================] - 12s 6ms/step - loss: 0.4513 - accuracy: 0.8407\n",
      "Epoch 16/50\n",
      "1875/1875 [==============================] - 11s 6ms/step - loss: 0.4400 - accuracy: 0.8450\n",
      "Epoch 17/50\n",
      "1875/1875 [==============================] - 11s 6ms/step - loss: 0.4310 - accuracy: 0.8490\n",
      "Epoch 18/50\n",
      "1875/1875 [==============================] - 11s 6ms/step - loss: 0.4221 - accuracy: 0.8518\n",
      "Epoch 19/50\n",
      "1875/1875 [==============================] - 11s 6ms/step - loss: 0.4145 - accuracy: 0.8548\n",
      "Epoch 20/50\n",
      "1875/1875 [==============================] - 11s 6ms/step - loss: 0.4068 - accuracy: 0.8585\n",
      "Epoch 21/50\n",
      "1875/1875 [==============================] - 11s 6ms/step - loss: 0.4002 - accuracy: 0.8611\n",
      "Epoch 22/50\n",
      "1875/1875 [==============================] - 12s 6ms/step - loss: 0.3966 - accuracy: 0.8610\n",
      "Epoch 23/50\n",
      "1875/1875 [==============================] - 11s 6ms/step - loss: 0.3918 - accuracy: 0.8630\n",
      "Epoch 24/50\n",
      "1875/1875 [==============================] - 11s 6ms/step - loss: 0.3888 - accuracy: 0.8650\n",
      "Epoch 25/50\n",
      "1875/1875 [==============================] - 11s 6ms/step - loss: 0.3853 - accuracy: 0.8656\n",
      "Epoch 26/50\n",
      "1875/1875 [==============================] - 11s 6ms/step - loss: 0.3809 - accuracy: 0.8672\n",
      "Epoch 27/50\n",
      "1875/1875 [==============================] - 11s 6ms/step - loss: 0.3776 - accuracy: 0.8677\n",
      "Epoch 28/50\n",
      "1875/1875 [==============================] - 11s 6ms/step - loss: 0.3745 - accuracy: 0.8697\n",
      "Epoch 29/50\n",
      "1875/1875 [==============================] - 14s 7ms/step - loss: 0.3712 - accuracy: 0.8702\n",
      "Epoch 30/50\n",
      "1875/1875 [==============================] - 13s 7ms/step - loss: 0.3666 - accuracy: 0.8709\n",
      "Epoch 31/50\n",
      "1875/1875 [==============================] - 12s 6ms/step - loss: 0.3641 - accuracy: 0.8717\n",
      "Epoch 32/50\n",
      "1875/1875 [==============================] - 12s 7ms/step - loss: 0.3597 - accuracy: 0.8737\n",
      "Epoch 33/50\n",
      "1875/1875 [==============================] - 12s 7ms/step - loss: 0.3572 - accuracy: 0.8726\n",
      "Epoch 34/50\n",
      "1875/1875 [==============================] - 12s 6ms/step - loss: 0.3534 - accuracy: 0.8756\n",
      "Epoch 35/50\n",
      "1875/1875 [==============================] - 12s 6ms/step - loss: 0.3500 - accuracy: 0.8753\n",
      "Epoch 36/50\n",
      "1875/1875 [==============================] - 12s 6ms/step - loss: 0.3497 - accuracy: 0.8750\n",
      "Epoch 37/50\n",
      "1875/1875 [==============================] - 16s 9ms/step - loss: 0.3445 - accuracy: 0.8781\n",
      "Epoch 38/50\n",
      "1875/1875 [==============================] - 19s 10ms/step - loss: 0.3444 - accuracy: 0.8772\n",
      "Epoch 39/50\n",
      "1875/1875 [==============================] - 18s 10ms/step - loss: 0.3425 - accuracy: 0.8772\n",
      "Epoch 40/50\n",
      "1875/1875 [==============================] - 19s 10ms/step - loss: 0.3404 - accuracy: 0.8780\n",
      "Epoch 41/50\n",
      "1875/1875 [==============================] - 19s 10ms/step - loss: 0.3404 - accuracy: 0.8788\n",
      "Epoch 42/50\n",
      "1875/1875 [==============================] - 19s 10ms/step - loss: 0.3381 - accuracy: 0.8781\n",
      "Epoch 43/50\n",
      "1875/1875 [==============================] - 19s 10ms/step - loss: 0.3358 - accuracy: 0.8797\n",
      "Epoch 44/50\n",
      "1875/1875 [==============================] - 19s 10ms/step - loss: 0.3332 - accuracy: 0.8794\n",
      "Epoch 45/50\n",
      "1875/1875 [==============================] - 19s 10ms/step - loss: 0.3296 - accuracy: 0.8808\n",
      "Epoch 46/50\n",
      "1875/1875 [==============================] - 19s 10ms/step - loss: 0.3294 - accuracy: 0.8818\n",
      "Epoch 47/50\n",
      "1875/1875 [==============================] - 19s 10ms/step - loss: 0.3315 - accuracy: 0.8802\n",
      "Epoch 48/50\n",
      "1875/1875 [==============================] - 20s 10ms/step - loss: 0.3271 - accuracy: 0.8824\n",
      "Epoch 49/50\n",
      "1875/1875 [==============================] - 19s 10ms/step - loss: 0.3250 - accuracy: 0.8821\n",
      "Epoch 50/50\n",
      "1875/1875 [==============================] - 19s 10ms/step - loss: 0.3235 - accuracy: 0.8815\n"
     ]
    }
   ],
   "source": [
    "model.fit(X_train,y_train,epochs=50)\n",
    "keras.backend.clear_session()"
   ]
  },
  {
   "cell_type": "markdown",
   "id": "95181c7a-552a-4682-ad9a-d98f2cd48d0f",
   "metadata": {},
   "source": [
    "**EVALUATIONS AND PREDICTIONS**"
   ]
  },
  {
   "cell_type": "code",
   "execution_count": 15,
   "id": "ed126582-b0c3-499c-909a-d7fa04d6dd40",
   "metadata": {},
   "outputs": [
    {
     "name": "stdout",
     "output_type": "stream",
     "text": [
      "313/313 [==============================] - 1s 4ms/step - loss: 0.4574 - accuracy: 0.8469\n"
     ]
    }
   ],
   "source": [
    "test_loss, test_acc = model.evaluate(X_test, y_test, verbose=1)"
   ]
  },
  {
   "cell_type": "code",
   "execution_count": 16,
   "id": "490810fd-a1d0-4e76-8b54-57c9b2a19ef3",
   "metadata": {},
   "outputs": [
    {
     "name": "stdout",
     "output_type": "stream",
     "text": [
      "1875/1875 [==============================] - 7s 3ms/step\n"
     ]
    }
   ],
   "source": [
    "predictions = model.predict(X_train)"
   ]
  },
  {
   "cell_type": "code",
   "execution_count": 17,
   "id": "da279629-2a0b-49bb-822b-3fb7eacd928c",
   "metadata": {},
   "outputs": [
    {
     "data": {
      "text/plain": [
       "0"
      ]
     },
     "execution_count": 17,
     "metadata": {},
     "output_type": "execute_result"
    }
   ],
   "source": [
    "predictions[10].argmax()"
   ]
  },
  {
   "cell_type": "code",
   "execution_count": 18,
   "id": "82f865a5-6af1-4b4d-a6a8-d5d47d1f7963",
   "metadata": {},
   "outputs": [
    {
     "data": {
      "text/plain": [
       "'T-shirt/top'"
      ]
     },
     "execution_count": 18,
     "metadata": {},
     "output_type": "execute_result"
    }
   ],
   "source": [
    "class_names[0]"
   ]
  },
  {
   "cell_type": "code",
   "execution_count": 19,
   "id": "6175e61a-7161-40a3-b613-0246bbe25483",
   "metadata": {},
   "outputs": [
    {
     "data": {
      "text/plain": [
       "0.67693645"
      ]
     },
     "execution_count": 19,
     "metadata": {},
     "output_type": "execute_result"
    }
   ],
   "source": [
    "predictions[10,0]"
   ]
  },
  {
   "cell_type": "code",
   "execution_count": 20,
   "id": "ab75545a-ae0d-48ea-ac5a-4eb6a77d9862",
   "metadata": {},
   "outputs": [
    {
     "data": {
      "text/plain": [
       "<matplotlib.colorbar.Colorbar at 0x7f9e32f74350>"
      ]
     },
     "execution_count": 20,
     "metadata": {},
     "output_type": "execute_result"
    },
    {
     "data": {
      "image/png": "[encoded data removed]",
      "text/plain": [
       "<Figure size 640x480 with 2 Axes>"
      ]
     },
     "metadata": {},
     "output_type": "display_data"
    }
   ],
   "source": [
    "plt.imshow(X_train[10])\n",
    "plt.colorbar()"
   ]
  },
  {
   "cell_type": "markdown",
   "id": "3cd4ff37-4cba-4c33-ae67-e7b8674430ad",
   "metadata": {},
   "source": [
    "**As we can see,our model correctly predicted the class!**"
   ]
  }
 ],
 "metadata": {
  "kernelspec": {
   "display_name": "Python (GPU)",
   "language": "python",
   "name": "gpu_env"
  },
  "language_info": {
   "codemirror_mode": {
    "name": "ipython",
    "version": 3
   },
   "file_extension": ".py",
   "mimetype": "text/x-python",
   "name": "python",
   "nbconvert_exporter": "python",
   "pygments_lexer": "ipython3",
   "version": "3.11.7"
  }
 },
 "nbformat": 4,
 "nbformat_minor": 5
}
